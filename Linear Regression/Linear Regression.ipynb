{
 "cells": [
  {
   "cell_type": "code",
   "execution_count": 15,
   "id": "e54c4224-9c4b-4f70-8529-205f40491ecb",
   "metadata": {},
   "outputs": [
    {
     "name": "stdin",
     "output_type": "stream",
     "text": [
      "Enter the first list of element:  123\n",
      "Enter the second list of element:  123abc\n"
     ]
    },
    {
     "name": "stdout",
     "output_type": "stream",
     "text": [
      "Menu\n",
      "1.Union\n",
      "2.Intersection\n",
      "\n"
     ]
    },
    {
     "name": "stdin",
     "output_type": "stream",
     "text": [
      "Enter the choice:  1\n"
     ]
    },
    {
     "name": "stdout",
     "output_type": "stream",
     "text": [
      "Union of 2 lists is: ['1', '2', '3', 'a', 'b', 'c']\n"
     ]
    },
    {
     "name": "stdin",
     "output_type": "stream",
     "text": [
      "Enter the choice:  2\n"
     ]
    },
    {
     "name": "stdout",
     "output_type": "stream",
     "text": [
      "Intersection of 2 lists is:  ['1', '2', '3']\n"
     ]
    },
    {
     "name": "stdin",
     "output_type": "stream",
     "text": [
      "Enter the choice:  3\n"
     ]
    }
   ],
   "source": [
    "#Union and Intersection of lists without using set\n",
    "l1=list(input(\"Enter the first list of element: \"))\n",
    "l2=list(input(\"Enter the second list of element: \"))\n",
    "print(\"Menu\\n1.Union\\n2.Intersection\\n\")\n",
    "while 1:\n",
    "    choice=int(input(\"Enter the choice: \"))\n",
    "    if choice==1:\n",
    "            union_list=l1[:]\n",
    "            for item in l2:\n",
    "                if item not in union_list:\n",
    "                    union_list.append(item)\n",
    "            print(\"Union of 2 lists is:\",union_list)\n",
    "    elif choice==2:\n",
    "        intersection_list=[]\n",
    "        for item in l1:\n",
    "            if item in l2:\n",
    "                intersection_list.append(item)\n",
    "        print(\"Intersection of 2 lists is: \",intersection_list)\n",
    "    else:\n",
    "        break;\n"
   ]
  },
  {
   "cell_type": "code",
   "execution_count": 13,
   "id": "d135e4b6-2653-4705-a8ac-21469392d8e6",
   "metadata": {},
   "outputs": [
    {
     "name": "stdin",
     "output_type": "stream",
     "text": [
      "Enter a sentence:  Help I need help\n"
     ]
    },
    {
     "name": "stdout",
     "output_type": "stream",
     "text": [
      "{'help': 2, 'i': 1, 'need': 1}\n"
     ]
    }
   ],
   "source": [
    "sentence=input(\"Enter a sentence: \")\n",
    "sentence=sentence.lower()\n",
    "words=sentence.split()\n",
    "d={}\n",
    "for word in words:\n",
    "    d[word]=words.count(word)\n",
    "print(d)"
   ]
  },
  {
   "cell_type": "code",
   "execution_count": 30,
   "id": "750b2921-28a4-4880-83f5-c76ccfc8e35e",
   "metadata": {},
   "outputs": [
    {
     "name": "stdin",
     "output_type": "stream",
     "text": [
      "Enter the 1st matrix: [1,2,3],[4,5,6],[7,8,9]\n",
      "Enter the 1st matrix: [1,0,0],[0,1,0],[0,0,1]\n"
     ]
    },
    {
     "name": "stdout",
     "output_type": "stream",
     "text": [
      "1  2  3  \n",
      "4  5  6  \n",
      "7  8  9  \n",
      "\n",
      " [[1, 2, 3], [4, 5, 6], [7, 8, 9]]\n"
     ]
    }
   ],
   "source": [
    "mat1=eval(input(\"Enter the 1st matrix:\"))\n",
    "mat2=eval(input(\"Enter the 1st matrix:\"))\n",
    "nr1,nc1=len(mat1),len(mat1[0])\n",
    "nr2,nc2=len(mat2),len(mat2[0]) \n",
    "result=[\n",
    "    [0,0,0],\n",
    "    [0,0,0],\n",
    "    [0,0,0]\n",
    "]\n",
    "if nc1!=nr2:\n",
    "    print(\"Invalid matrix for matrix multiplication\")\n",
    "else:\n",
    "    for i in range(nr1):\n",
    "        for j in range(nc2):\n",
    "            sum=0\n",
    "            for k in range(nc1):\n",
    "                sum+=mat1[i][k]*mat2[k][j]\n",
    "            result[i][j]=sum\n",
    "            print(sum,' ',end='')\n",
    "        print('')\n",
    "print(\"\\n\",result)\n",
    "            \n"
   ]
  },
  {
   "cell_type": "code",
   "execution_count": 31,
   "id": "9e5b464c-3287-47f2-bdd3-d9ac4ae4d307",
   "metadata": {},
   "outputs": [
    {
     "name": "stdout",
     "output_type": "stream",
     "text": [
      "{'hello': 2, 'welcome': 2}\n",
      "{'hello': 2, 'welcome': 2}\n"
     ]
    }
   ],
   "source": [
    "with open('example.txt','r') as file:\n",
    "    contents=file.read()\n",
    "    words=contents.split()\n",
    "    d={}\n",
    "    maxvals={}\n",
    "    for word in words:\n",
    "        d[word]=words.count(word)\n",
    "    print(d)\n",
    "    mf=max(d.values())\n",
    "    for key,val in d.items():\n",
    "        if val==mf:\n",
    "            maxvals[key]=mf\n",
    "    print(maxvals)\n",
    "    "
   ]
  },
  {
   "cell_type": "code",
   "execution_count": null,
   "id": "1b8e56cc-7452-4ea4-83ef-71acb9076f50",
   "metadata": {},
   "outputs": [],
   "source": []
  }
 ],
 "metadata": {
  "kernelspec": {
   "display_name": "Python 3 (ipykernel)",
   "language": "python",
   "name": "python3"
  },
  "language_info": {
   "codemirror_mode": {
    "name": "ipython",
    "version": 3
   },
   "file_extension": ".py",
   "mimetype": "text/x-python",
   "name": "python",
   "nbconvert_exporter": "python",
   "pygments_lexer": "ipython3",
   "version": "3.8.10"
  }
 },
 "nbformat": 4,
 "nbformat_minor": 5
}
